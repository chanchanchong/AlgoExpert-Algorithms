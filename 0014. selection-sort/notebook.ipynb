{
 "cells": [
  {
   "cell_type": "markdown",
   "source": [
    "selection sort"
   ],
   "metadata": {
    "collapsed": false
   }
  },
  {
   "cell_type": "code",
   "execution_count": 2,
   "metadata": {
    "collapsed": true,
    "ExecuteTime": {
     "start_time": "2023-04-26T17:40:43.453255Z",
     "end_time": "2023-04-26T17:40:43.478782Z"
    }
   },
   "outputs": [
    {
     "name": "stdout",
     "output_type": "stream",
     "text": [
      "[2, 3, 5, 5, 6, 8, 9]\n"
     ]
    }
   ],
   "source": [
    "array = [8, 5, 2, 9, 5, 6, 3]\n",
    "\n",
    "def selection_sort(array):\n",
    "    current_index = 0\n",
    "    while current_index < len(array) - 1:\n",
    "        smallest_index = current_index\n",
    "        for i in range(current_index + 1, len(array)):\n",
    "            if array[smallest_index] > array[i]:\n",
    "                smallest_index = i\n",
    "        swap(current_index, smallest_index, array)\n",
    "        current_index += 1\n",
    "    return array\n",
    "\n",
    "def swap(i, j, array):\n",
    "    array[i], array[j] = array[j], array[i]w\n",
    "\n",
    "\n",
    "print(selection_sort(array))"
   ]
  },
  {
   "cell_type": "code",
   "execution_count": null,
   "outputs": [],
   "source": [],
   "metadata": {
    "collapsed": false
   }
  }
 ],
 "metadata": {
  "kernelspec": {
   "display_name": "Python 3",
   "language": "python",
   "name": "python3"
  },
  "language_info": {
   "codemirror_mode": {
    "name": "ipython",
    "version": 2
   },
   "file_extension": ".py",
   "mimetype": "text/x-python",
   "name": "python",
   "nbconvert_exporter": "python",
   "pygments_lexer": "ipython2",
   "version": "2.7.6"
  }
 },
 "nbformat": 4,
 "nbformat_minor": 0
}
