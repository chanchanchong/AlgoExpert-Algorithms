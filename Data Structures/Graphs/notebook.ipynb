{
 "cells": [
  {
   "cell_type": "markdown",
   "source": [
    "#### Algoexpert graphs"
   ],
   "metadata": {
    "collapsed": false
   }
  },
  {
   "cell_type": "markdown",
   "source": [
    "- collection of nodes may be connected or not\n",
    "- is a set of vertices and edge"
   ],
   "metadata": {
    "collapsed": false
   }
  },
  {
   "cell_type": "markdown",
   "source": [
    "- a graph is connected graph if there is connection from all of the nodes\n"
   ],
   "metadata": {
    "collapsed": false
   }
  },
  {
   "cell_type": "code",
   "execution_count": null,
   "metadata": {
    "collapsed": true
   },
   "outputs": [],
   "source": [
    "# Node\n",
    "class node:\n",
    "    def __init__(self, value):\n",
    "        # backwards\n",
    "        self.left = None\n",
    "        self.value = value\n",
    "        # forawrd\n",
    "        self.right = None\n",
    "\n",
    "class Graph:\n",
    "    # specify the head first\n",
    "    def insert_after(self, node, node_to_insert):\n",
    "        node.right = node_to_insert.value\n",
    "\n",
    "\n"
   ]
  }
 ],
 "metadata": {
  "kernelspec": {
   "display_name": "Python 3",
   "language": "python",
   "name": "python3"
  },
  "language_info": {
   "codemirror_mode": {
    "name": "ipython",
    "version": 2
   },
   "file_extension": ".py",
   "mimetype": "text/x-python",
   "name": "python",
   "nbconvert_exporter": "python",
   "pygments_lexer": "ipython2",
   "version": "2.7.6"
  }
 },
 "nbformat": 4,
 "nbformat_minor": 0
}
