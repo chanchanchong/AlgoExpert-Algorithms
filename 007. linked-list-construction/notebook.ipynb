{
 "cells": [
  {
   "cell_type": "markdown",
   "source": [
    "#### Linked list construction"
   ],
   "metadata": {
    "collapsed": false
   }
  },
  {
   "cell_type": "code",
   "execution_count": 1,
   "metadata": {
    "collapsed": true,
    "ExecuteTime": {
     "start_time": "2023-04-27T17:16:10.684836Z",
     "end_time": "2023-04-27T17:16:10.706845Z"
    }
   },
   "outputs": [],
   "source": [
    "# Nodes\n",
    "class node:\n",
    "    def __init__(self, value):\n",
    "        # self.prev = None\n",
    "        self.value = value\n",
    "        self.next = None"
   ]
  },
  {
   "cell_type": "markdown",
   "source": [
    "* Singly Linked List"
   ],
   "metadata": {
    "collapsed": false
   }
  },
  {
   "cell_type": "code",
   "execution_count": null,
   "outputs": [],
   "source": [
    "class singly_linked_list:\n",
    "    def __init__(self):\n",
    "        self.head = None\n",
    "\n",
    "    def set_head(self, node):\n",
    "        self.head = node\n",
    "\n",
    "    def insert_after(self, node, new_node):\n",
    "        if self.head is None:\n",
    "            self.set_head(node)\n",
    "\n",
    "        if node.next is None\n"
   ],
   "metadata": {
    "collapsed": false
   }
  },
  {
   "cell_type": "code",
   "execution_count": 2,
   "outputs": [],
   "source": [
    "# SINGLE LINKED LIST\n",
    "class singular_linked_list:\n",
    "    def __init__(self):\n",
    "        self.head = None\n",
    "\n",
    "    def setHead(self, node):\n",
    "        self.head = node\n",
    "\n",
    "    def insert_after(self, node, new_node):\n",
    "        if self.head is None:\n",
    "            self.setHead(node)\n",
    "        # 1. assign the new node.prev into the head/node\n",
    "        # new_node.prev = node\n",
    "        # 2. assign the new_node.next into the next node\n",
    "        # if node.next is None:\n",
    "        node.next = new_node\n",
    "        # print(f\"{node.value}->{node.next.value}\")\n",
    "        # else:\n",
    "            # new_node.next = node.next\n",
    "        # 3. assign the next node.prev into the new_node\n",
    "        # node.next.prev = new_node\n",
    "\n",
    "    def remove(self, key):\n",
    "        prev = None\n",
    "        node = self.head\n",
    "        while node is not None:\n",
    "            if node.value == key:\n",
    "                prev.next = node.next\n",
    "                node.next = None\n",
    "                break\n",
    "            prev = node\n",
    "            node = node.next\n",
    "\n",
    "\n",
    "    def traverse(self):\n",
    "        # while current node.next is not null\n",
    "        node = self.head\n",
    "        while node is not None:\n",
    "            print(f\"{node.value}->\", end=\"\")\n",
    "            # print(f\"{node.value}->{node.next.value}\")\n",
    "            node = node.next\n",
    "\n"
   ],
   "metadata": {
    "collapsed": false,
    "ExecuteTime": {
     "start_time": "2023-04-27T17:16:14.121382Z",
     "end_time": "2023-04-27T17:16:14.144400Z"
    }
   }
  },
  {
   "cell_type": "markdown",
   "source": [
    "* Linked List Construction by AlgoExpert"
   ],
   "metadata": {
    "collapsed": false
   }
  },
  {
   "cell_type": "code",
   "execution_count": null,
   "outputs": [],
   "source": [
    "class Doubly_Linked_List():\n",
    "    def __init__(self):\n",
    "        self.head = None\n",
    "        self.tail = None\n",
    "\n",
    "    def set_head(self, node):\n",
    "        pass\n",
    "\n",
    "    def set_tail(self, node):\n",
    "        pass\n",
    "\n",
    "    def insert_before(self, node, new_node):\n",
    "        if node_to_insert ==\n",
    "\n",
    "    def insert_after(self, node, new_node):\n",
    "        pass\n",
    "\n",
    "    def insert_at_position(self, position, new_node):\n",
    "        pass\n",
    "\n",
    "    def remove_node_through_value(self, value):\n",
    "        node = self.head\n",
    "        while node is not None:\n",
    "            node_to_remove = node\n",
    "            node = node.next\n",
    "            if node_to_remove.value == value:\n",
    "                self.remove(node_to_remove)\n",
    "\n",
    "\n",
    "    def remove(self, node):\n",
    "        # make the next node to be the head\n",
    "        if node == self.head:\n",
    "            self.head = self.head.next\n",
    "        # likewise make the previous node to be the tail\n",
    "        if node == self.tail:\n",
    "            self.tail = self.tail.prev\n",
    "        # then remove the pointers\n",
    "        self.remove_pointers(node)\n",
    "\n",
    "    def is_contain_node_value(self, value):\n",
    "        # traversing using the head to traveling up to tail\n",
    "        node = self.head\n",
    "        # either it is the end of the list or there is no value in the list\n",
    "        while node is not None and node.value != value:\n",
    "            # iterator\n",
    "            node = node.next\n",
    "        return node is not None\n",
    "\n",
    "    def remove_pointers(self, node):\n",
    "        # if there is next node, point the node to another node\n",
    "        # before deleting\n",
    "        if node.prev is not None:\n",
    "            node.prev.next = node.next\n",
    "        if node.next is not None:\n",
    "            node.next.prev = node.prev\n",
    "        node.prev = None\n",
    "        node.next = None\n",
    "\n",
    "\n"
   ],
   "metadata": {
    "collapsed": false
   }
  },
  {
   "cell_type": "code",
   "execution_count": 3,
   "outputs": [
    {
     "name": "stdout",
     "output_type": "stream",
     "text": [
      "0->1->2->3->4->5->6->7->8->9->"
     ]
    }
   ],
   "source": [
    "s = singular_linked_list()\n",
    "nodes = [node(i) for i in range(0, 10)]\n",
    "for i in range(0, 10 - 1):\n",
    "    s.insert_after(nodes[i], nodes[i + 1])\n",
    "s.traverse()"
   ],
   "metadata": {
    "collapsed": false,
    "ExecuteTime": {
     "start_time": "2023-04-27T17:16:18.190239Z",
     "end_time": "2023-04-27T17:16:18.219246Z"
    }
   }
  },
  {
   "cell_type": "code",
   "execution_count": 6,
   "outputs": [
    {
     "name": "stdout",
     "output_type": "stream",
     "text": [
      "0->1->2->3->"
     ]
    }
   ],
   "source": [
    "s.remove(6)\n",
    "s.remove(5)\n",
    "s.remove(4)\n",
    "s.remove(7)\n",
    "s.remove(8)\n",
    "s.remove(9)\n",
    "s.traverse()"
   ],
   "metadata": {
    "collapsed": false,
    "ExecuteTime": {
     "start_time": "2023-04-27T17:16:58.061809Z",
     "end_time": "2023-04-27T17:16:58.073814Z"
    }
   }
  },
  {
   "cell_type": "code",
   "execution_count": null,
   "outputs": [],
   "source": [],
   "metadata": {
    "collapsed": false
   }
  }
 ],
 "metadata": {
  "kernelspec": {
   "display_name": "Python 3",
   "language": "python",
   "name": "python3"
  },
  "language_info": {
   "codemirror_mode": {
    "name": "ipython",
    "version": 2
   },
   "file_extension": ".py",
   "mimetype": "text/x-python",
   "name": "python",
   "nbconvert_exporter": "python",
   "pygments_lexer": "ipython2",
   "version": "2.7.6"
  }
 },
 "nbformat": 4,
 "nbformat_minor": 0
}
